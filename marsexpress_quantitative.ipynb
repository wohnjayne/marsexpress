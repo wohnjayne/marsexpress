{
 "metadata": {
  "name": "",
  "signature": "sha256:4ad9deb6c152d72d9f6dee9bc471cecdabc0a95862cb1efa46ac430c4be73a29"
 },
 "nbformat": 3,
 "nbformat_minor": 0,
 "worksheets": [
  {
   "cells": [
    {
     "cell_type": "code",
     "collapsed": false,
     "input": [
      "import pandas as pd\n",
      "import numpy as np\n",
      "from datetime import datetime\n",
      "import matplotlib.pyplot as plt\n",
      "#import matplotlib\n",
      "%matplotlib inline\n"
     ],
     "language": "python",
     "metadata": {},
     "outputs": [],
     "prompt_number": 127
    },
    {
     "cell_type": "code",
     "collapsed": false,
     "input": [
      "# some configs \n",
      "interval = 10 #minutes\n",
      "last_year_is_validation_set = True"
     ],
     "language": "python",
     "metadata": {},
     "outputs": [],
     "prompt_number": 109
    },
    {
     "cell_type": "code",
     "collapsed": false,
     "input": [
      "# loads data from files\n",
      "def load_data(filenames):\n",
      "    first = True\n",
      "    for filename in filenames:\n",
      "        print \"reading file %s\"%filename\n",
      "        if first:\n",
      "            data = pd.read_csv(filename)\n",
      "            first = False\n",
      "        else:\n",
      "            data = pd.concat([data,pd.read_csv(filename)],axis=0)\n",
      "    return data  "
     ],
     "language": "python",
     "metadata": {},
     "outputs": [],
     "prompt_number": 97
    },
    {
     "cell_type": "code",
     "collapsed": false,
     "input": [
      "# prepares data by reformatting columns, resampling etc\n",
      "def prepare_data(data,interval,normalize=True):\n",
      "    # specify format of dates\n",
      "    data.ut_ms = data.ut_ms.apply(lambda d: datetime.fromtimestamp(d/1000))\n",
      "    data.index = data.ut_ms\n",
      "    # drop the ut_ms column\n",
      "    data = data.drop([\"ut_ms\"], axis=1)\n",
      "    # resample data to intervals of <interval> minutes\n",
      "    data=data.resample(\"%dT\"%interval).mean()\n",
      "    # normalize target columns to have zero mean and unit variance\n",
      "    if normalize:\n",
      "        data = (data - data.mean()) / (data.max() - data.min())\n",
      "    # fill missing values (from above)\n",
      "    data=data.fillna(method='pad')\n",
      "    return data"
     ],
     "language": "python",
     "metadata": {},
     "outputs": [],
     "prompt_number": 98
    },
    {
     "cell_type": "code",
     "collapsed": false,
     "input": [
      "path = \"/home/malte/data/mars-express-power-3years/train_set/\"\n",
      "years = {}\n",
      "years[\"train\"] = [\"2008-08-22_2010-07-10\",\"2010-07-10_2012-05-27\",\"2012-05-27_2014-04-14\"]\n",
      "\n",
      "if last_year_is_validation_set:\n",
      "    years['validation'] = [years['train'].pop(-1)]\n",
      "    \n",
      "\n",
      "numeric_data_files = [\"saaf\",\"ltdata\"]\n",
      "\n",
      "filenames = {}\n",
      "filenames_targets = {}\n",
      "for data_type in years.keys():\n",
      "    filenames[data_type] = {}\n",
      "    filenames_targets[data_type] = {}\n",
      "    for ndf in numeric_data_files:\n",
      "        filenames[data_type][ndf] = []\n",
      "        filenames_targets[data_type] = []\n",
      "        for year in years[data_type]:\n",
      "            filenames[data_type][ndf].append(\"%scontext--%s--%s.csv\"%(path,year,ndf))\n",
      "            filenames_targets[data_type].append(\"%spower--%s.csv\"%(path,year))\n",
      "\n",
      "#filenames_saaf = [path%'context--2008-08-22_2010-07-10--saaf.csv',path%'context--2010-07-10_2012-05-27--saaf.csv',path%'context--2012-05-27_2014-04-14--saaf.csv']\n",
      "#filenames_ltdata = [path%'context--2008-08-22_2010-07-10--ltdata.csv',path%'context--2010-07-10_2012-05-27--ltdata.csv',path%'context--2012-05-27_2014-04-14--ltdata.csv']\n",
      "#filenames_targets = [path%'power--2008-08-22_2010-07-10.csv',path%'power--2010-07-10_2012-05-27.csv',path%'power--2012-05-27_2014-04-14.csv']"
     ],
     "language": "python",
     "metadata": {},
     "outputs": [],
     "prompt_number": 99
    },
    {
     "cell_type": "code",
     "collapsed": false,
     "input": [
      "print filenames_targets[\"train\"]"
     ],
     "language": "python",
     "metadata": {},
     "outputs": [
      {
       "output_type": "stream",
       "stream": "stdout",
       "text": [
        "['/home/malte/data/mars-express-power-3years/train_set/power--2008-08-22_2010-07-10.csv', '/home/malte/data/mars-express-power-3years/train_set/power--2010-07-10_2012-05-27.csv']\n"
       ]
      }
     ],
     "prompt_number": 100
    },
    {
     "cell_type": "code",
     "collapsed": false,
     "input": [
      "data_saaf = {}\n",
      "data_ltdata = {}\n",
      "data = {}\n",
      "targets = {}\n",
      "for data_type in years.keys():\n",
      "    data_saaf[data_type] = load_data(filenames[data_type]['saaf'])\n",
      "    data_saaf[data_type] = prepare_data(data_saaf[data_type],interval)\n",
      "\n",
      "    data_ltdata[data_type] = load_data(filenames[data_type]['ltdata'])\n",
      "    data_ltdata[data_type] = prepare_data(data_ltdata[data_type],interval)\n",
      "        \n",
      "    data[data_type] = pd.concat([data_saaf[data_type],data_ltdata[data_type]],axis=1).fillna(method='pad')\n",
      "\n",
      "    targets[data_type] = load_data(filenames_targets[data_type])\n",
      "    targets[data_type] = prepare_data(targets[data_type],interval,normalize=False)\n",
      "\n",
      "\n",
      "\n",
      "# manual correction necessary:\n",
      "# this assertion would fail:\n",
      "# assert len(data) == len(targets)\n",
      "# index in saaf (or ltdata file ) runs to 2014-04-13 02:00:00\n",
      "# but index in target file (power) runs to 2014-04-13 02:00:00\n",
      "#  --> we delete the last values in \"targets\"\n",
      "\n",
      "#dropfrom = len(targets)-(len(targets)-len(data))\n",
      "#dropto = len(targets)\n",
      "#targets = targets.drop(targets.index[[range(dropfrom,dropto)]])\n",
      "for data_type in years.keys():\n",
      "    assert len(data[data_type]) == len(targets[data_type])\n"
     ],
     "language": "python",
     "metadata": {},
     "outputs": [
      {
       "output_type": "stream",
       "stream": "stdout",
       "text": [
        "reading file /home/malte/data/mars-express-power-3years/train_set/context--2008-08-22_2010-07-10--saaf.csv\n",
        "reading file /home/malte/data/mars-express-power-3years/train_set/context--2010-07-10_2012-05-27--saaf.csv"
       ]
      },
      {
       "output_type": "stream",
       "stream": "stdout",
       "text": [
        "\n",
        "reading file /home/malte/data/mars-express-power-3years/train_set/context--2008-08-22_2010-07-10--ltdata.csv"
       ]
      },
      {
       "output_type": "stream",
       "stream": "stdout",
       "text": [
        "\n",
        "reading file /home/malte/data/mars-express-power-3years/train_set/context--2010-07-10_2012-05-27--ltdata.csv\n",
        "reading file /home/malte/data/mars-express-power-3years/train_set/power--2008-08-22_2010-07-10.csv"
       ]
      },
      {
       "output_type": "stream",
       "stream": "stdout",
       "text": [
        "\n",
        "reading file /home/malte/data/mars-express-power-3years/train_set/power--2010-07-10_2012-05-27.csv"
       ]
      },
      {
       "output_type": "stream",
       "stream": "stdout",
       "text": [
        "\n",
        "reading file /home/malte/data/mars-express-power-3years/train_set/context--2012-05-27_2014-04-14--saaf.csv"
       ]
      },
      {
       "output_type": "stream",
       "stream": "stdout",
       "text": [
        "\n",
        "reading file /home/malte/data/mars-express-power-3years/train_set/context--2012-05-27_2014-04-14--ltdata.csv"
       ]
      },
      {
       "output_type": "stream",
       "stream": "stdout",
       "text": [
        "\n",
        "reading file /home/malte/data/mars-express-power-3years/train_set/power--2012-05-27_2014-04-14.csv\n"
       ]
      }
     ],
     "prompt_number": 101
    },
    {
     "cell_type": "code",
     "collapsed": false,
     "input": [
      "targets[\"validation\"].shape"
     ],
     "language": "python",
     "metadata": {},
     "outputs": [
      {
       "metadata": {},
       "output_type": "pyout",
       "prompt_number": 102,
       "text": [
        "(98928, 33)"
       ]
      }
     ],
     "prompt_number": 102
    },
    {
     "cell_type": "code",
     "collapsed": false,
     "input": [
      "#targets[['NPWD2372']].isnull().values.any()\n",
      "#data[['sa','sx','sy','sz']].isnull().values.any()\n",
      "#data[data[['sa','sx','sy','sz']].isnull().any(axis=1)]\n",
      "# fill missing values (from above)\n",
      "#targets=targets.fillna(method='pad')"
     ],
     "language": "python",
     "metadata": {},
     "outputs": [],
     "prompt_number": 103
    },
    {
     "cell_type": "code",
     "collapsed": false,
     "input": [
      "def marsexpress_error(predictions,targets):\n",
      "    error=np.sqrt(np.power(predictions-targets,2).mean())\n",
      "    return error"
     ],
     "language": "python",
     "metadata": {},
     "outputs": [],
     "prompt_number": 104
    },
    {
     "cell_type": "code",
     "collapsed": false,
     "input": [
      "if  last_year_is_validation_set:\n",
      "    input_for_prediction = data['validation']\n",
      "else:\n",
      "    input_for_prediction = 0\n",
      "    raise Exception(\"NOT IMPLEMENTED YET\")"
     ],
     "language": "python",
     "metadata": {},
     "outputs": [],
     "prompt_number": 105
    },
    {
     "cell_type": "code",
     "collapsed": false,
     "input": [
      "from sklearn import linear_model\n",
      "lr = linear_model.LinearRegression()\n",
      "lr.fit(data['train'].as_matrix(),targets['train'].as_matrix())\n",
      "predictions = pd.DataFrame(lr.predict(input_for_prediction.as_matrix()),columns=targets['train'].columns,index=input_for_prediction.index)\n",
      "# resample predictions to intervals of 60 minutes\n",
      "predictions = predictions.resample(\"60T\").mean()\n",
      "if  last_year_is_validation_set:\n",
      "    print marsexpress_error(predictions.as_matrix(),targets['validation'].resample(\"60T\").mean().as_matrix())"
     ],
     "language": "python",
     "metadata": {},
     "outputs": [
      {
       "output_type": "stream",
       "stream": "stdout",
       "text": [
        "0.122607326444\n"
       ]
      }
     ],
     "prompt_number": 116
    },
    {
     "cell_type": "code",
     "collapsed": false,
     "input": [
      "from sklearn import tree\n",
      "# initial tests on validation set (year 3) show that min_samples_leaf should\n",
      "# be pretty high (280) when predicting 10 minute intervals, m\n",
      "# min_samples_split is less sensitive, 60 is ok\n",
      "def testDecisionTreeRegressor(min_samples_leaf=280,min_samples_split=60):\n",
      "    clf = tree.DecisionTreeRegressor(min_samples_leaf=min_samples_leaf,min_samples_split=min_samples_split)\n",
      "    first = True\n",
      "    for col in targets['train'].columns:\n",
      "        #print col,\n",
      "        clf.fit(data['train'].as_matrix(),targets['train'][[col]].as_matrix())\n",
      "        pred = pd.DataFrame(clf.predict(input_for_prediction.as_matrix()),columns=[col],index=input_for_prediction.index)\n",
      "        if first:\n",
      "            predictions = pred\n",
      "            first = False\n",
      "        else:\n",
      "            predictions = pd.concat([predictions,pred],axis=1)    \n",
      "    # resample predictions to intervals of 60 minutes\n",
      "    predictions = predictions.resample(\"60T\").mean()\n",
      "    if  last_year_is_validation_set:\n",
      "        return marsexpress_error(predictions.as_matrix(),targets['validation'].resample(\"60T\").mean().as_matrix())"
     ],
     "language": "python",
     "metadata": {},
     "outputs": [],
     "prompt_number": 124
    },
    {
     "cell_type": "code",
     "collapsed": false,
     "input": [
      "results=[]\n",
      "for i in range(20):\n",
      "    print i,\n",
      "    min_samples_leaf = np.random.randint(250,300)\n",
      "    min_samples_split = np.random.randint(40,90)\n",
      "    results.append([min_samples_leaf,min_samples_split,testDecisionTreeRegressor(min_samples_leaf=min_samples_leaf,min_samples_split=min_samples_split)])\n",
      "print \"\"\n"
     ],
     "language": "python",
     "metadata": {},
     "outputs": [
      {
       "output_type": "stream",
       "stream": "stdout",
       "text": [
        "0 "
       ]
      },
      {
       "output_type": "stream",
       "stream": "stdout",
       "text": [
        "\n",
        "1"
       ]
      },
      {
       "output_type": "stream",
       "stream": "stdout",
       "text": [
        " \n",
        "2"
       ]
      },
      {
       "output_type": "stream",
       "stream": "stdout",
       "text": [
        " \n",
        "3"
       ]
      },
      {
       "output_type": "stream",
       "stream": "stdout",
       "text": [
        " \n",
        "4"
       ]
      },
      {
       "output_type": "stream",
       "stream": "stdout",
       "text": [
        " \n",
        "5"
       ]
      },
      {
       "output_type": "stream",
       "stream": "stdout",
       "text": [
        " \n",
        "6"
       ]
      },
      {
       "output_type": "stream",
       "stream": "stdout",
       "text": [
        " \n",
        "7"
       ]
      },
      {
       "output_type": "stream",
       "stream": "stdout",
       "text": [
        " \n",
        "8"
       ]
      },
      {
       "output_type": "stream",
       "stream": "stdout",
       "text": [
        " \n",
        "9"
       ]
      },
      {
       "output_type": "stream",
       "stream": "stdout",
       "text": [
        " \n",
        "10"
       ]
      },
      {
       "output_type": "stream",
       "stream": "stdout",
       "text": [
        " \n",
        "11"
       ]
      },
      {
       "output_type": "stream",
       "stream": "stdout",
       "text": [
        " \n",
        "12"
       ]
      },
      {
       "output_type": "stream",
       "stream": "stdout",
       "text": [
        " \n",
        "13"
       ]
      },
      {
       "output_type": "stream",
       "stream": "stdout",
       "text": [
        " \n",
        "14"
       ]
      },
      {
       "output_type": "stream",
       "stream": "stdout",
       "text": [
        " \n",
        "15"
       ]
      },
      {
       "output_type": "stream",
       "stream": "stdout",
       "text": [
        " \n",
        "16"
       ]
      },
      {
       "output_type": "stream",
       "stream": "stdout",
       "text": [
        " \n",
        "17"
       ]
      },
      {
       "output_type": "stream",
       "stream": "stdout",
       "text": [
        " \n",
        "18"
       ]
      },
      {
       "output_type": "stream",
       "stream": "stdout",
       "text": [
        " \n",
        "19"
       ]
      },
      {
       "output_type": "stream",
       "stream": "stdout",
       "text": [
        " \n"
       ]
      },
      {
       "output_type": "stream",
       "stream": "stdout",
       "text": [
        "\n"
       ]
      }
     ],
     "prompt_number": 146
    },
    {
     "cell_type": "code",
     "collapsed": false,
     "input": [
      "results = np.array(results)\n",
      "plt.scatter(results[:,0],results[:,2])\n",
      "plt.title('min_samples_leaf')"
     ],
     "language": "python",
     "metadata": {},
     "outputs": [
      {
       "metadata": {},
       "output_type": "pyout",
       "prompt_number": 150,
       "text": [
        "<matplotlib.text.Text at 0x7f7f43161e90>"
       ]
      },
      {
       "metadata": {},
       "output_type": "display_data",
       "png": "[encoded data removed]",
       "text": [
        "<matplotlib.figure.Figure at 0x7f7f4319bd50>"
       ]
      }
     ],
     "prompt_number": 150
    },
    {
     "cell_type": "code",
     "collapsed": false,
     "input": [
      "plt.scatter(results[:,1],results[:,2])\n",
      "plt.title('min_samples_split')"
     ],
     "language": "python",
     "metadata": {},
     "outputs": [
      {
       "metadata": {},
       "output_type": "pyout",
       "prompt_number": 151,
       "text": [
        "<matplotlib.text.Text at 0x7f7f43116b90>"
       ]
      },
      {
       "metadata": {},
       "output_type": "display_data",
       "png": "[encoded data removed]",
       "text": [
        "<matplotlib.figure.Figure at 0x7f7f5004d590>"
       ]
      }
     ],
     "prompt_number": 151
    },
    {
     "cell_type": "code",
     "collapsed": false,
     "input": [
      "results"
     ],
     "language": "python",
     "metadata": {},
     "outputs": [
      {
       "metadata": {},
       "output_type": "pyout",
       "prompt_number": 152,
       "text": [
        "array([[  2.74000000e+02,   7.00000000e+01,   1.20012934e-01],\n",
        "       [  2.91000000e+02,   7.50000000e+01,   1.20551951e-01],\n",
        "       [  2.56000000e+02,   7.80000000e+01,   1.20592127e-01],\n",
        "       [  2.59000000e+02,   4.10000000e+01,   1.20847598e-01],\n",
        "       [  2.67000000e+02,   4.50000000e+01,   1.20572392e-01],\n",
        "       [  2.95000000e+02,   6.70000000e+01,   1.20083437e-01],\n",
        "       [  2.97000000e+02,   8.90000000e+01,   1.20298414e-01],\n",
        "       [  2.51000000e+02,   7.10000000e+01,   1.20669653e-01],\n",
        "       [  2.87000000e+02,   4.40000000e+01,   1.19866435e-01],\n",
        "       [  2.83000000e+02,   4.30000000e+01,   1.19956792e-01],\n",
        "       [  2.80000000e+02,   5.30000000e+01,   1.19945826e-01],\n",
        "       [  2.77000000e+02,   8.10000000e+01,   1.19870125e-01],\n",
        "       [  2.57000000e+02,   6.10000000e+01,   1.21061650e-01],\n",
        "       [  2.83000000e+02,   6.40000000e+01,   1.20037851e-01],\n",
        "       [  2.69000000e+02,   5.70000000e+01,   1.20516399e-01],\n",
        "       [  2.76000000e+02,   7.70000000e+01,   1.19947795e-01],\n",
        "       [  2.50000000e+02,   5.20000000e+01,   1.20987871e-01],\n",
        "       [  2.68000000e+02,   5.60000000e+01,   1.20390927e-01],\n",
        "       [  2.88000000e+02,   5.70000000e+01,   1.19715557e-01],\n",
        "       [  2.91000000e+02,   4.30000000e+01,   1.20387594e-01]])"
       ]
      }
     ],
     "prompt_number": 152
    },
    {
     "cell_type": "code",
     "collapsed": false,
     "input": [],
     "language": "python",
     "metadata": {},
     "outputs": []
    }
   ],
   "metadata": {}
  }
 ]
}